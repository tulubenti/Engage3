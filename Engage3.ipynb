{
  "nbformat": 4,
  "nbformat_minor": 0,
  "metadata": {
    "colab": {
      "name": "Engage3.ipynb",
      "provenance": [],
      "collapsed_sections": []
    },
    "kernelspec": {
      "name": "python3",
      "display_name": "Python 3"
    }
  },
  "cells": [
    {
      "cell_type": "code",
      "metadata": {
        "id": "gXj-Hy_eMATP",
        "colab_type": "code",
        "outputId": "9881f49a-0989-4986-c0fa-70caf1d05b4c",
        "colab": {
          "base_uri": "https://localhost:8080/",
          "height": 121
        }
      },
      "source": [
        "from google.colab import drive\n",
        "drive.mount('/content/drive/')"
      ],
      "execution_count": 3,
      "outputs": [
        {
          "output_type": "stream",
          "text": [
            "Go to this URL in a browser: https://accounts.google.com/o/oauth2/auth?client_id=947318989803-6bn6qk8qdgf4n4g3pfee6491hc0brc4i.apps.googleusercontent.com&redirect_uri=urn%3aietf%3awg%3aoauth%3a2.0%3aoob&response_type=code&scope=email%20https%3a%2f%2fwww.googleapis.com%2fauth%2fdocs.test%20https%3a%2f%2fwww.googleapis.com%2fauth%2fdrive%20https%3a%2f%2fwww.googleapis.com%2fauth%2fdrive.photos.readonly%20https%3a%2f%2fwww.googleapis.com%2fauth%2fpeopleapi.readonly\n",
            "\n",
            "Enter your authorization code:\n",
            "··········\n",
            "Mounted at /content/drive/\n"
          ],
          "name": "stdout"
        }
      ]
    },
    {
      "cell_type": "markdown",
      "metadata": {
        "id": "Ankfp4TUpEtD",
        "colab_type": "text"
      },
      "source": [
        "Importing python libraries we may need"
      ]
    },
    {
      "cell_type": "code",
      "metadata": {
        "id": "aLJs-K7DNBNY",
        "colab_type": "code",
        "colab": {}
      },
      "source": [
        "import pandas as pd\n",
        "import numpy as np\n",
        "import matplotlib.pyplot as plt\n",
        "import seaborn as sns"
      ],
      "execution_count": 0,
      "outputs": []
    },
    {
      "cell_type": "markdown",
      "metadata": {
        "id": "WSZZMcePr_L5",
        "colab_type": "text"
      },
      "source": [
        "Upload datasets"
      ]
    },
    {
      "cell_type": "code",
      "metadata": {
        "id": "lIXXPtP1QVRF",
        "colab_type": "code",
        "outputId": "660105f2-7119-4732-924a-e35bb3ba6769",
        "colab": {
          "resources": {
            "http://localhost:8080/nbextensions/google.colab/files.js": {
              "data": "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",
              "ok": true,
              "headers": [
                [
                  "content-type",
                  "application/javascript"
                ]
              ],
              "status": 200,
              "status_text": ""
            }
          },
          "base_uri": "https://localhost:8080/",
          "height": 142
        }
      },
      "source": [
        "from google.colab import files\n",
        "uploaded = files.upload()"
      ],
      "execution_count": 2,
      "outputs": [
        {
          "output_type": "display_data",
          "data": {
            "text/html": [
              "\n",
              "     <input type=\"file\" id=\"files-3ec0581a-55cc-4db9-abb8-1692a28e84f4\" name=\"files[]\" multiple disabled />\n",
              "     <output id=\"result-3ec0581a-55cc-4db9-abb8-1692a28e84f4\">\n",
              "      Upload widget is only available when the cell has been executed in the\n",
              "      current browser session. Please rerun this cell to enable.\n",
              "      </output>\n",
              "      <script src=\"/nbextensions/google.colab/files.js\"></script> "
            ],
            "text/plain": [
              "<IPython.core.display.HTML object>"
            ]
          },
          "metadata": {
            "tags": []
          }
        },
        {
          "output_type": "stream",
          "text": [
            "Saving auditors.csv to auditors.csv\n",
            "Saving prices.csv to prices.csv\n",
            "Saving stores.json to stores.json\n"
          ],
          "name": "stdout"
        }
      ]
    },
    {
      "cell_type": "markdown",
      "metadata": {
        "id": "eOS5mkh0pyT9",
        "colab_type": "text"
      },
      "source": [
        "Read stores json file"
      ]
    },
    {
      "cell_type": "code",
      "metadata": {
        "id": "Dt3TWFdlrWuB",
        "colab_type": "code",
        "colab": {}
      },
      "source": [
        "stores = pd.read_json('stores.json')"
      ],
      "execution_count": 0,
      "outputs": []
    },
    {
      "cell_type": "code",
      "metadata": {
        "id": "loyS0Gekvy9U",
        "colab_type": "code",
        "colab": {
          "base_uri": "https://localhost:8080/",
          "height": 876
        },
        "outputId": "e7d2962b-3cdd-4fd3-d724-34dc5c3486a9"
      },
      "source": [
        "stores.head(100)"
      ],
      "execution_count": 98,
      "outputs": [
        {
          "output_type": "execute_result",
          "data": {
            "text/html": [
              "<div>\n",
              "<style scoped>\n",
              "    .dataframe tbody tr th:only-of-type {\n",
              "        vertical-align: middle;\n",
              "    }\n",
              "\n",
              "    .dataframe tbody tr th {\n",
              "        vertical-align: top;\n",
              "    }\n",
              "\n",
              "    .dataframe thead th {\n",
              "        text-align: right;\n",
              "    }\n",
              "</style>\n",
              "<table border=\"1\" class=\"dataframe\">\n",
              "  <thead>\n",
              "    <tr style=\"text-align: right;\">\n",
              "      <th></th>\n",
              "      <th>Store ID</th>\n",
              "      <th>Banner</th>\n",
              "      <th>Region</th>\n",
              "    </tr>\n",
              "  </thead>\n",
              "  <tbody>\n",
              "    <tr>\n",
              "      <th>0</th>\n",
              "      <td>66999</td>\n",
              "      <td>Walmart</td>\n",
              "      <td>Northern California</td>\n",
              "    </tr>\n",
              "    <tr>\n",
              "      <th>1</th>\n",
              "      <td>4698</td>\n",
              "      <td>Trader Joes</td>\n",
              "      <td>Northern California</td>\n",
              "    </tr>\n",
              "    <tr>\n",
              "      <th>2</th>\n",
              "      <td>39482</td>\n",
              "      <td>Safeway</td>\n",
              "      <td>Northern California</td>\n",
              "    </tr>\n",
              "    <tr>\n",
              "      <th>3</th>\n",
              "      <td>34957</td>\n",
              "      <td>Whole Foods</td>\n",
              "      <td>Northern California</td>\n",
              "    </tr>\n",
              "    <tr>\n",
              "      <th>4</th>\n",
              "      <td>12837</td>\n",
              "      <td>Walmart</td>\n",
              "      <td>New York</td>\n",
              "    </tr>\n",
              "    <tr>\n",
              "      <th>5</th>\n",
              "      <td>9487</td>\n",
              "      <td>Trader Joes</td>\n",
              "      <td>New York</td>\n",
              "    </tr>\n",
              "    <tr>\n",
              "      <th>6</th>\n",
              "      <td>2938</td>\n",
              "      <td>Wegmans</td>\n",
              "      <td>New York</td>\n",
              "    </tr>\n",
              "    <tr>\n",
              "      <th>7</th>\n",
              "      <td>50948</td>\n",
              "      <td>Whole Foods</td>\n",
              "      <td>New York</td>\n",
              "    </tr>\n",
              "    <tr>\n",
              "      <th>8</th>\n",
              "      <td>40593</td>\n",
              "      <td>Walmart</td>\n",
              "      <td>Kansas</td>\n",
              "    </tr>\n",
              "    <tr>\n",
              "      <th>9</th>\n",
              "      <td>29384</td>\n",
              "      <td>Trader Joes</td>\n",
              "      <td>Kansas</td>\n",
              "    </tr>\n",
              "    <tr>\n",
              "      <th>10</th>\n",
              "      <td>3948</td>\n",
              "      <td>Wegmans</td>\n",
              "      <td>Kansas</td>\n",
              "    </tr>\n",
              "    <tr>\n",
              "      <th>11</th>\n",
              "      <td>39485</td>\n",
              "      <td>Safeway</td>\n",
              "      <td>Kansas</td>\n",
              "    </tr>\n",
              "    <tr>\n",
              "      <th>12</th>\n",
              "      <td>39287</td>\n",
              "      <td>Whole Foods</td>\n",
              "      <td>Kansas</td>\n",
              "    </tr>\n",
              "    <tr>\n",
              "      <th>13</th>\n",
              "      <td>50495</td>\n",
              "      <td>Walmart</td>\n",
              "      <td>Texas</td>\n",
              "    </tr>\n",
              "    <tr>\n",
              "      <th>14</th>\n",
              "      <td>40586</td>\n",
              "      <td>Trader Joes</td>\n",
              "      <td>Texas</td>\n",
              "    </tr>\n",
              "    <tr>\n",
              "      <th>15</th>\n",
              "      <td>98638</td>\n",
              "      <td>Wegmans</td>\n",
              "      <td>Texas</td>\n",
              "    </tr>\n",
              "    <tr>\n",
              "      <th>16</th>\n",
              "      <td>29382</td>\n",
              "      <td>Safeway</td>\n",
              "      <td>Texas</td>\n",
              "    </tr>\n",
              "    <tr>\n",
              "      <th>17</th>\n",
              "      <td>98736</td>\n",
              "      <td>Whole Foods</td>\n",
              "      <td>Texas</td>\n",
              "    </tr>\n",
              "    <tr>\n",
              "      <th>18</th>\n",
              "      <td>6746</td>\n",
              "      <td>Kroger</td>\n",
              "      <td>Northern California</td>\n",
              "    </tr>\n",
              "    <tr>\n",
              "      <th>19</th>\n",
              "      <td>77955</td>\n",
              "      <td>Kroger</td>\n",
              "      <td>New York</td>\n",
              "    </tr>\n",
              "    <tr>\n",
              "      <th>20</th>\n",
              "      <td>66356</td>\n",
              "      <td>Kroger</td>\n",
              "      <td>Texas</td>\n",
              "    </tr>\n",
              "    <tr>\n",
              "      <th>21</th>\n",
              "      <td>99997</td>\n",
              "      <td>Kroger</td>\n",
              "      <td>Kansas</td>\n",
              "    </tr>\n",
              "    <tr>\n",
              "      <th>22</th>\n",
              "      <td>29342</td>\n",
              "      <td>Walmart</td>\n",
              "      <td>Hawaii</td>\n",
              "    </tr>\n",
              "    <tr>\n",
              "      <th>23</th>\n",
              "      <td>11123</td>\n",
              "      <td>Trader Joes</td>\n",
              "      <td>Hawaii</td>\n",
              "    </tr>\n",
              "    <tr>\n",
              "      <th>24</th>\n",
              "      <td>39284</td>\n",
              "      <td>Wegmans</td>\n",
              "      <td>Hawaii</td>\n",
              "    </tr>\n",
              "    <tr>\n",
              "      <th>25</th>\n",
              "      <td>40582</td>\n",
              "      <td>Safeway</td>\n",
              "      <td>Hawaii</td>\n",
              "    </tr>\n",
              "    <tr>\n",
              "      <th>26</th>\n",
              "      <td>59582</td>\n",
              "      <td>Whole Foods</td>\n",
              "      <td>Hawaii</td>\n",
              "    </tr>\n",
              "    <tr>\n",
              "      <th>27</th>\n",
              "      <td>50692</td>\n",
              "      <td>Kroger</td>\n",
              "      <td>Hawaii</td>\n",
              "    </tr>\n",
              "  </tbody>\n",
              "</table>\n",
              "</div>"
            ],
            "text/plain": [
              "    Store ID       Banner               Region\n",
              "0      66999      Walmart  Northern California\n",
              "1       4698  Trader Joes  Northern California\n",
              "2      39482      Safeway  Northern California\n",
              "3      34957  Whole Foods  Northern California\n",
              "4      12837      Walmart             New York\n",
              "5       9487  Trader Joes             New York\n",
              "6       2938      Wegmans             New York\n",
              "7      50948  Whole Foods             New York\n",
              "8      40593      Walmart               Kansas\n",
              "9      29384  Trader Joes               Kansas\n",
              "10      3948      Wegmans               Kansas\n",
              "11     39485      Safeway               Kansas\n",
              "12     39287  Whole Foods               Kansas\n",
              "13     50495      Walmart                Texas\n",
              "14     40586  Trader Joes                Texas\n",
              "15     98638      Wegmans                Texas\n",
              "16     29382      Safeway                Texas\n",
              "17     98736  Whole Foods                Texas\n",
              "18      6746       Kroger  Northern California\n",
              "19     77955       Kroger             New York\n",
              "20     66356       Kroger                Texas\n",
              "21     99997       Kroger               Kansas\n",
              "22     29342      Walmart               Hawaii\n",
              "23     11123  Trader Joes               Hawaii\n",
              "24     39284      Wegmans               Hawaii\n",
              "25     40582      Safeway               Hawaii\n",
              "26     59582  Whole Foods               Hawaii\n",
              "27     50692       Kroger               Hawaii"
            ]
          },
          "metadata": {
            "tags": []
          },
          "execution_count": 98
        }
      ]
    },
    {
      "cell_type": "markdown",
      "metadata": {
        "id": "a2b_M3UYCTBJ",
        "colab_type": "text"
      },
      "source": [
        "Count plot for Store ID, Banner, Region"
      ]
    },
    {
      "cell_type": "code",
      "metadata": {
        "id": "ARAil10hCfjN",
        "colab_type": "code",
        "colab": {
          "base_uri": "https://localhost:8080/",
          "height": 606
        },
        "outputId": "7c18a2ef-34bc-48c9-d02e-ba201a8fafe4"
      },
      "source": [
        "plt.figure(figsize=[10,10])\n",
        "cplt_r = sns.countplot(x='Region', data= stores)"
      ],
      "execution_count": 5,
      "outputs": [
        {
          "output_type": "display_data",
          "data": {
            "image/png": "[encoded data removed]",
            "text/plain": [
              "<Figure size 720x720 with 1 Axes>"
            ]
          },
          "metadata": {
            "tags": []
          }
        }
      ]
    },
    {
      "cell_type": "code",
      "metadata": {
        "id": "rG5ieY5tCoKI",
        "colab_type": "code",
        "colab": {
          "base_uri": "https://localhost:8080/",
          "height": 606
        },
        "outputId": "bad2a7a0-59b8-4971-e914-68ecdf7d947f"
      },
      "source": [
        "plt.figure(figsize=[10,10])\n",
        "cplt_b = sns.countplot(x='Banner', data= stores)"
      ],
      "execution_count": 6,
      "outputs": [
        {
          "output_type": "display_data",
          "data": {
            "image/png": "[encoded data removed]",
            "text/plain": [
              "<Figure size 720x720 with 1 Axes>"
            ]
          },
          "metadata": {
            "tags": []
          }
        }
      ]
    },
    {
      "cell_type": "markdown",
      "metadata": {
        "id": "6CSTl0cEqTH_",
        "colab_type": "text"
      },
      "source": [
        "Read auditors csv file"
      ]
    },
    {
      "cell_type": "code",
      "metadata": {
        "id": "dOhnnLcVwC5n",
        "colab_type": "code",
        "colab": {}
      },
      "source": [
        "auditors = pd.read_csv('auditors.csv')"
      ],
      "execution_count": 0,
      "outputs": []
    },
    {
      "cell_type": "code",
      "metadata": {
        "id": "yLO1hGpzwRUf",
        "colab_type": "code",
        "outputId": "75db7e70-f99e-44bf-fd7f-3ecbfb8a119d",
        "colab": {
          "base_uri": "https://localhost:8080/",
          "height": 284
        }
      },
      "source": [
        "auditors.head(10)"
      ],
      "execution_count": 102,
      "outputs": [
        {
          "output_type": "execute_result",
          "data": {
            "text/html": [
              "<div>\n",
              "<style scoped>\n",
              "    .dataframe tbody tr th:only-of-type {\n",
              "        vertical-align: middle;\n",
              "    }\n",
              "\n",
              "    .dataframe tbody tr th {\n",
              "        vertical-align: top;\n",
              "    }\n",
              "\n",
              "    .dataframe thead th {\n",
              "        text-align: right;\n",
              "    }\n",
              "</style>\n",
              "<table border=\"1\" class=\"dataframe\">\n",
              "  <thead>\n",
              "    <tr style=\"text-align: right;\">\n",
              "      <th></th>\n",
              "      <th>Auditor ID</th>\n",
              "      <th>First</th>\n",
              "      <th>Last</th>\n",
              "      <th>Region</th>\n",
              "    </tr>\n",
              "  </thead>\n",
              "  <tbody>\n",
              "    <tr>\n",
              "      <th>0</th>\n",
              "      <td>234</td>\n",
              "      <td>Sue</td>\n",
              "      <td>Smith</td>\n",
              "      <td>Northern California</td>\n",
              "    </tr>\n",
              "    <tr>\n",
              "      <th>1</th>\n",
              "      <td>536</td>\n",
              "      <td>Bob</td>\n",
              "      <td>Smith</td>\n",
              "      <td>Northern California</td>\n",
              "    </tr>\n",
              "    <tr>\n",
              "      <th>2</th>\n",
              "      <td>98</td>\n",
              "      <td>Jack</td>\n",
              "      <td>Smith</td>\n",
              "      <td>New York</td>\n",
              "    </tr>\n",
              "    <tr>\n",
              "      <th>3</th>\n",
              "      <td>203</td>\n",
              "      <td>Jill</td>\n",
              "      <td>Smith</td>\n",
              "      <td>New York</td>\n",
              "    </tr>\n",
              "    <tr>\n",
              "      <th>4</th>\n",
              "      <td>304</td>\n",
              "      <td>Jerry</td>\n",
              "      <td>Johnson</td>\n",
              "      <td>Texas</td>\n",
              "    </tr>\n",
              "    <tr>\n",
              "      <th>5</th>\n",
              "      <td>63</td>\n",
              "      <td>Randy</td>\n",
              "      <td>Johnson</td>\n",
              "      <td>Texas</td>\n",
              "    </tr>\n",
              "    <tr>\n",
              "      <th>6</th>\n",
              "      <td>1326</td>\n",
              "      <td>Mike</td>\n",
              "      <td>Johnson</td>\n",
              "      <td>Kansas</td>\n",
              "    </tr>\n",
              "    <tr>\n",
              "      <th>7</th>\n",
              "      <td>713</td>\n",
              "      <td>Dave</td>\n",
              "      <td>Johnson</td>\n",
              "      <td>Kansas</td>\n",
              "    </tr>\n",
              "  </tbody>\n",
              "</table>\n",
              "</div>"
            ],
            "text/plain": [
              "   Auditor ID  First     Last               Region\n",
              "0         234    Sue    Smith  Northern California\n",
              "1         536    Bob    Smith  Northern California\n",
              "2          98   Jack    Smith             New York\n",
              "3         203   Jill    Smith             New York\n",
              "4         304  Jerry  Johnson                Texas\n",
              "5          63  Randy  Johnson                Texas\n",
              "6        1326   Mike  Johnson               Kansas\n",
              "7         713   Dave  Johnson               Kansas"
            ]
          },
          "metadata": {
            "tags": []
          },
          "execution_count": 102
        }
      ]
    },
    {
      "cell_type": "markdown",
      "metadata": {
        "id": "zW5ycUOtwSpc",
        "colab_type": "text"
      },
      "source": [
        "Auditors were sent only to four regions: Northern California, New York, Texas, and Kansas as shown in the above data table. No auditor was sent to Hawaii."
      ]
    },
    {
      "cell_type": "markdown",
      "metadata": {
        "id": "1zh81TXghuLq",
        "colab_type": "text"
      },
      "source": [
        "Eight auditors participated in the recording price and assortment information in four regions except Hawaii. "
      ]
    },
    {
      "cell_type": "code",
      "metadata": {
        "id": "mEn4l-dbFhBD",
        "colab_type": "code",
        "colab": {
          "base_uri": "https://localhost:8080/",
          "height": 284
        },
        "outputId": "50288785-2c53-48ae-86ec-4088cda59259"
      },
      "source": [
        "auditors"
      ],
      "execution_count": 106,
      "outputs": [
        {
          "output_type": "execute_result",
          "data": {
            "text/html": [
              "<div>\n",
              "<style scoped>\n",
              "    .dataframe tbody tr th:only-of-type {\n",
              "        vertical-align: middle;\n",
              "    }\n",
              "\n",
              "    .dataframe tbody tr th {\n",
              "        vertical-align: top;\n",
              "    }\n",
              "\n",
              "    .dataframe thead th {\n",
              "        text-align: right;\n",
              "    }\n",
              "</style>\n",
              "<table border=\"1\" class=\"dataframe\">\n",
              "  <thead>\n",
              "    <tr style=\"text-align: right;\">\n",
              "      <th></th>\n",
              "      <th>Auditor ID</th>\n",
              "      <th>First</th>\n",
              "      <th>Last</th>\n",
              "      <th>Region</th>\n",
              "    </tr>\n",
              "  </thead>\n",
              "  <tbody>\n",
              "    <tr>\n",
              "      <th>0</th>\n",
              "      <td>234</td>\n",
              "      <td>Sue</td>\n",
              "      <td>Smith</td>\n",
              "      <td>Northern California</td>\n",
              "    </tr>\n",
              "    <tr>\n",
              "      <th>1</th>\n",
              "      <td>536</td>\n",
              "      <td>Bob</td>\n",
              "      <td>Smith</td>\n",
              "      <td>Northern California</td>\n",
              "    </tr>\n",
              "    <tr>\n",
              "      <th>2</th>\n",
              "      <td>98</td>\n",
              "      <td>Jack</td>\n",
              "      <td>Smith</td>\n",
              "      <td>New York</td>\n",
              "    </tr>\n",
              "    <tr>\n",
              "      <th>3</th>\n",
              "      <td>203</td>\n",
              "      <td>Jill</td>\n",
              "      <td>Smith</td>\n",
              "      <td>New York</td>\n",
              "    </tr>\n",
              "    <tr>\n",
              "      <th>4</th>\n",
              "      <td>304</td>\n",
              "      <td>Jerry</td>\n",
              "      <td>Johnson</td>\n",
              "      <td>Texas</td>\n",
              "    </tr>\n",
              "    <tr>\n",
              "      <th>5</th>\n",
              "      <td>63</td>\n",
              "      <td>Randy</td>\n",
              "      <td>Johnson</td>\n",
              "      <td>Texas</td>\n",
              "    </tr>\n",
              "    <tr>\n",
              "      <th>6</th>\n",
              "      <td>1326</td>\n",
              "      <td>Mike</td>\n",
              "      <td>Johnson</td>\n",
              "      <td>Kansas</td>\n",
              "    </tr>\n",
              "    <tr>\n",
              "      <th>7</th>\n",
              "      <td>713</td>\n",
              "      <td>Dave</td>\n",
              "      <td>Johnson</td>\n",
              "      <td>Kansas</td>\n",
              "    </tr>\n",
              "  </tbody>\n",
              "</table>\n",
              "</div>"
            ],
            "text/plain": [
              "   Auditor ID  First     Last               Region\n",
              "0         234    Sue    Smith  Northern California\n",
              "1         536    Bob    Smith  Northern California\n",
              "2          98   Jack    Smith             New York\n",
              "3         203   Jill    Smith             New York\n",
              "4         304  Jerry  Johnson                Texas\n",
              "5          63  Randy  Johnson                Texas\n",
              "6        1326   Mike  Johnson               Kansas\n",
              "7         713   Dave  Johnson               Kansas"
            ]
          },
          "metadata": {
            "tags": []
          },
          "execution_count": 106
        }
      ]
    },
    {
      "cell_type": "markdown",
      "metadata": {
        "id": "gQK-ASYHqfQb",
        "colab_type": "text"
      },
      "source": [
        "Read prices csv file"
      ]
    },
    {
      "cell_type": "code",
      "metadata": {
        "id": "v8UtU1ki6d9b",
        "colab_type": "code",
        "colab": {}
      },
      "source": [
        "prices = pd.read_csv('prices.csv')"
      ],
      "execution_count": 0,
      "outputs": []
    },
    {
      "cell_type": "code",
      "metadata": {
        "colab_type": "code",
        "id": "VHA6JLrRyMKM",
        "colab": {
          "base_uri": "https://localhost:8080/",
          "height": 195
        },
        "outputId": "7486983e-572e-4863-c970-4b1b331bd154"
      },
      "source": [
        "prices.head()"
      ],
      "execution_count": 108,
      "outputs": [
        {
          "output_type": "execute_result",
          "data": {
            "text/html": [
              "<div>\n",
              "<style scoped>\n",
              "    .dataframe tbody tr th:only-of-type {\n",
              "        vertical-align: middle;\n",
              "    }\n",
              "\n",
              "    .dataframe tbody tr th {\n",
              "        vertical-align: top;\n",
              "    }\n",
              "\n",
              "    .dataframe thead th {\n",
              "        text-align: right;\n",
              "    }\n",
              "</style>\n",
              "<table border=\"1\" class=\"dataframe\">\n",
              "  <thead>\n",
              "    <tr style=\"text-align: right;\">\n",
              "      <th></th>\n",
              "      <th>Auditor ID</th>\n",
              "      <th>Date</th>\n",
              "      <th>Price</th>\n",
              "      <th>Store ID</th>\n",
              "      <th>UPC</th>\n",
              "    </tr>\n",
              "  </thead>\n",
              "  <tbody>\n",
              "    <tr>\n",
              "      <th>0</th>\n",
              "      <td>234</td>\n",
              "      <td>10/18/17</td>\n",
              "      <td>24.95</td>\n",
              "      <td>66999</td>\n",
              "      <td>268588472</td>\n",
              "    </tr>\n",
              "    <tr>\n",
              "      <th>1</th>\n",
              "      <td>234</td>\n",
              "      <td>10/27/17</td>\n",
              "      <td>49.71</td>\n",
              "      <td>66999</td>\n",
              "      <td>475245085</td>\n",
              "    </tr>\n",
              "    <tr>\n",
              "      <th>2</th>\n",
              "      <td>234</td>\n",
              "      <td>10/20/17</td>\n",
              "      <td>25.75</td>\n",
              "      <td>66999</td>\n",
              "      <td>126967843</td>\n",
              "    </tr>\n",
              "    <tr>\n",
              "      <th>3</th>\n",
              "      <td>234</td>\n",
              "      <td>10/23/17</td>\n",
              "      <td>18.81</td>\n",
              "      <td>66999</td>\n",
              "      <td>708930835</td>\n",
              "    </tr>\n",
              "    <tr>\n",
              "      <th>4</th>\n",
              "      <td>234</td>\n",
              "      <td>10/23/17</td>\n",
              "      <td>33.32</td>\n",
              "      <td>66999</td>\n",
              "      <td>325885139</td>\n",
              "    </tr>\n",
              "  </tbody>\n",
              "</table>\n",
              "</div>"
            ],
            "text/plain": [
              "   Auditor ID      Date  Price  Store ID        UPC\n",
              "0         234  10/18/17  24.95     66999  268588472\n",
              "1         234  10/27/17  49.71     66999  475245085\n",
              "2         234  10/20/17  25.75     66999  126967843\n",
              "3         234  10/23/17  18.81     66999  708930835\n",
              "4         234  10/23/17  33.32     66999  325885139"
            ]
          },
          "metadata": {
            "tags": []
          },
          "execution_count": 108
        }
      ]
    },
    {
      "cell_type": "code",
      "metadata": {
        "id": "Ut9d_rLOmDy-",
        "colab_type": "code",
        "colab": {
          "base_uri": "https://localhost:8080/",
          "height": 714
        },
        "outputId": "ad2eaeb6-1905-4a17-8d4b-63098d648c91"
      },
      "source": [
        "plt.figure(figsize=[20,12])\n",
        "cplt_ss = sns.countplot(x= 'Store ID', data= prices)"
      ],
      "execution_count": 109,
      "outputs": [
        {
          "output_type": "display_data",
          "data": {
            "image/png": "[encoded data removed]",
            "text/plain": [
              "<Figure size 1440x864 with 1 Axes>"
            ]
          },
          "metadata": {
            "tags": []
          }
        }
      ]
    },
    {
      "cell_type": "markdown",
      "metadata": {
        "id": "rUU9VFf0KvE4",
        "colab_type": "text"
      },
      "source": [
        "# The graph shown above shows the complete price information was collected from twenty different stores."
      ]
    },
    {
      "cell_type": "markdown",
      "metadata": {
        "id": "tS4R8G6gtKSC",
        "colab_type": "text"
      },
      "source": [
        "# Now let us merge prices and stores data "
      ]
    },
    {
      "cell_type": "code",
      "metadata": {
        "id": "Q4FNlL_E2mPd",
        "colab_type": "code",
        "colab": {}
      },
      "source": [
        "merged = pd.merge( prices,stores, on = 'Store ID', how = 'outer')"
      ],
      "execution_count": 0,
      "outputs": []
    },
    {
      "cell_type": "code",
      "metadata": {
        "id": "X_K-O-Iz3TjF",
        "colab_type": "code",
        "colab": {
          "base_uri": "https://localhost:8080/",
          "height": 965
        },
        "outputId": "773a9cc3-8e0c-4afd-9dbc-e4701b19f958"
      },
      "source": [
        "merged.groupby('Store ID').count() "
      ],
      "execution_count": 114,
      "outputs": [
        {
          "output_type": "execute_result",
          "data": {
            "text/html": [
              "<div>\n",
              "<style scoped>\n",
              "    .dataframe tbody tr th:only-of-type {\n",
              "        vertical-align: middle;\n",
              "    }\n",
              "\n",
              "    .dataframe tbody tr th {\n",
              "        vertical-align: top;\n",
              "    }\n",
              "\n",
              "    .dataframe thead th {\n",
              "        text-align: right;\n",
              "    }\n",
              "</style>\n",
              "<table border=\"1\" class=\"dataframe\">\n",
              "  <thead>\n",
              "    <tr style=\"text-align: right;\">\n",
              "      <th></th>\n",
              "      <th>Auditor ID</th>\n",
              "      <th>Date</th>\n",
              "      <th>Price</th>\n",
              "      <th>UPC</th>\n",
              "      <th>Banner</th>\n",
              "      <th>Region</th>\n",
              "    </tr>\n",
              "    <tr>\n",
              "      <th>Store ID</th>\n",
              "      <th></th>\n",
              "      <th></th>\n",
              "      <th></th>\n",
              "      <th></th>\n",
              "      <th></th>\n",
              "      <th></th>\n",
              "    </tr>\n",
              "  </thead>\n",
              "  <tbody>\n",
              "    <tr>\n",
              "      <th>2938</th>\n",
              "      <td>933</td>\n",
              "      <td>933</td>\n",
              "      <td>933</td>\n",
              "      <td>933</td>\n",
              "      <td>933</td>\n",
              "      <td>933</td>\n",
              "    </tr>\n",
              "    <tr>\n",
              "      <th>3948</th>\n",
              "      <td>389</td>\n",
              "      <td>389</td>\n",
              "      <td>389</td>\n",
              "      <td>389</td>\n",
              "      <td>389</td>\n",
              "      <td>389</td>\n",
              "    </tr>\n",
              "    <tr>\n",
              "      <th>4698</th>\n",
              "      <td>401</td>\n",
              "      <td>401</td>\n",
              "      <td>401</td>\n",
              "      <td>401</td>\n",
              "      <td>401</td>\n",
              "      <td>401</td>\n",
              "    </tr>\n",
              "    <tr>\n",
              "      <th>6746</th>\n",
              "      <td>0</td>\n",
              "      <td>0</td>\n",
              "      <td>0</td>\n",
              "      <td>0</td>\n",
              "      <td>1</td>\n",
              "      <td>1</td>\n",
              "    </tr>\n",
              "    <tr>\n",
              "      <th>9487</th>\n",
              "      <td>382</td>\n",
              "      <td>382</td>\n",
              "      <td>382</td>\n",
              "      <td>382</td>\n",
              "      <td>382</td>\n",
              "      <td>382</td>\n",
              "    </tr>\n",
              "    <tr>\n",
              "      <th>11123</th>\n",
              "      <td>0</td>\n",
              "      <td>0</td>\n",
              "      <td>0</td>\n",
              "      <td>0</td>\n",
              "      <td>1</td>\n",
              "      <td>1</td>\n",
              "    </tr>\n",
              "    <tr>\n",
              "      <th>12837</th>\n",
              "      <td>859</td>\n",
              "      <td>859</td>\n",
              "      <td>859</td>\n",
              "      <td>859</td>\n",
              "      <td>859</td>\n",
              "      <td>859</td>\n",
              "    </tr>\n",
              "    <tr>\n",
              "      <th>29342</th>\n",
              "      <td>0</td>\n",
              "      <td>0</td>\n",
              "      <td>0</td>\n",
              "      <td>0</td>\n",
              "      <td>1</td>\n",
              "      <td>1</td>\n",
              "    </tr>\n",
              "    <tr>\n",
              "      <th>29382</th>\n",
              "      <td>838</td>\n",
              "      <td>838</td>\n",
              "      <td>838</td>\n",
              "      <td>838</td>\n",
              "      <td>838</td>\n",
              "      <td>838</td>\n",
              "    </tr>\n",
              "    <tr>\n",
              "      <th>29384</th>\n",
              "      <td>381</td>\n",
              "      <td>381</td>\n",
              "      <td>381</td>\n",
              "      <td>381</td>\n",
              "      <td>381</td>\n",
              "      <td>381</td>\n",
              "    </tr>\n",
              "    <tr>\n",
              "      <th>34957</th>\n",
              "      <td>515</td>\n",
              "      <td>515</td>\n",
              "      <td>515</td>\n",
              "      <td>515</td>\n",
              "      <td>515</td>\n",
              "      <td>515</td>\n",
              "    </tr>\n",
              "    <tr>\n",
              "      <th>38472</th>\n",
              "      <td>503</td>\n",
              "      <td>503</td>\n",
              "      <td>503</td>\n",
              "      <td>503</td>\n",
              "      <td>0</td>\n",
              "      <td>0</td>\n",
              "    </tr>\n",
              "    <tr>\n",
              "      <th>39284</th>\n",
              "      <td>0</td>\n",
              "      <td>0</td>\n",
              "      <td>0</td>\n",
              "      <td>0</td>\n",
              "      <td>1</td>\n",
              "      <td>1</td>\n",
              "    </tr>\n",
              "    <tr>\n",
              "      <th>39287</th>\n",
              "      <td>913</td>\n",
              "      <td>913</td>\n",
              "      <td>913</td>\n",
              "      <td>913</td>\n",
              "      <td>913</td>\n",
              "      <td>913</td>\n",
              "    </tr>\n",
              "    <tr>\n",
              "      <th>39482</th>\n",
              "      <td>306</td>\n",
              "      <td>306</td>\n",
              "      <td>306</td>\n",
              "      <td>306</td>\n",
              "      <td>306</td>\n",
              "      <td>306</td>\n",
              "    </tr>\n",
              "    <tr>\n",
              "      <th>39485</th>\n",
              "      <td>819</td>\n",
              "      <td>819</td>\n",
              "      <td>819</td>\n",
              "      <td>819</td>\n",
              "      <td>819</td>\n",
              "      <td>819</td>\n",
              "    </tr>\n",
              "    <tr>\n",
              "      <th>40582</th>\n",
              "      <td>0</td>\n",
              "      <td>0</td>\n",
              "      <td>0</td>\n",
              "      <td>0</td>\n",
              "      <td>1</td>\n",
              "      <td>1</td>\n",
              "    </tr>\n",
              "    <tr>\n",
              "      <th>40586</th>\n",
              "      <td>898</td>\n",
              "      <td>898</td>\n",
              "      <td>898</td>\n",
              "      <td>898</td>\n",
              "      <td>898</td>\n",
              "      <td>898</td>\n",
              "    </tr>\n",
              "    <tr>\n",
              "      <th>40593</th>\n",
              "      <td>585</td>\n",
              "      <td>585</td>\n",
              "      <td>585</td>\n",
              "      <td>585</td>\n",
              "      <td>585</td>\n",
              "      <td>585</td>\n",
              "    </tr>\n",
              "    <tr>\n",
              "      <th>50495</th>\n",
              "      <td>579</td>\n",
              "      <td>579</td>\n",
              "      <td>579</td>\n",
              "      <td>579</td>\n",
              "      <td>579</td>\n",
              "      <td>579</td>\n",
              "    </tr>\n",
              "    <tr>\n",
              "      <th>50692</th>\n",
              "      <td>0</td>\n",
              "      <td>0</td>\n",
              "      <td>0</td>\n",
              "      <td>0</td>\n",
              "      <td>1</td>\n",
              "      <td>1</td>\n",
              "    </tr>\n",
              "    <tr>\n",
              "      <th>50948</th>\n",
              "      <td>851</td>\n",
              "      <td>851</td>\n",
              "      <td>851</td>\n",
              "      <td>851</td>\n",
              "      <td>851</td>\n",
              "      <td>851</td>\n",
              "    </tr>\n",
              "    <tr>\n",
              "      <th>59582</th>\n",
              "      <td>0</td>\n",
              "      <td>0</td>\n",
              "      <td>0</td>\n",
              "      <td>0</td>\n",
              "      <td>1</td>\n",
              "      <td>1</td>\n",
              "    </tr>\n",
              "    <tr>\n",
              "      <th>60957</th>\n",
              "      <td>301</td>\n",
              "      <td>301</td>\n",
              "      <td>301</td>\n",
              "      <td>301</td>\n",
              "      <td>0</td>\n",
              "      <td>0</td>\n",
              "    </tr>\n",
              "    <tr>\n",
              "      <th>66356</th>\n",
              "      <td>0</td>\n",
              "      <td>0</td>\n",
              "      <td>0</td>\n",
              "      <td>0</td>\n",
              "      <td>1</td>\n",
              "      <td>1</td>\n",
              "    </tr>\n",
              "    <tr>\n",
              "      <th>66999</th>\n",
              "      <td>412</td>\n",
              "      <td>412</td>\n",
              "      <td>412</td>\n",
              "      <td>412</td>\n",
              "      <td>412</td>\n",
              "      <td>412</td>\n",
              "    </tr>\n",
              "    <tr>\n",
              "      <th>77955</th>\n",
              "      <td>0</td>\n",
              "      <td>0</td>\n",
              "      <td>0</td>\n",
              "      <td>0</td>\n",
              "      <td>1</td>\n",
              "      <td>1</td>\n",
              "    </tr>\n",
              "    <tr>\n",
              "      <th>98638</th>\n",
              "      <td>927</td>\n",
              "      <td>927</td>\n",
              "      <td>927</td>\n",
              "      <td>927</td>\n",
              "      <td>927</td>\n",
              "      <td>927</td>\n",
              "    </tr>\n",
              "    <tr>\n",
              "      <th>98736</th>\n",
              "      <td>523</td>\n",
              "      <td>523</td>\n",
              "      <td>523</td>\n",
              "      <td>523</td>\n",
              "      <td>523</td>\n",
              "      <td>523</td>\n",
              "    </tr>\n",
              "    <tr>\n",
              "      <th>99997</th>\n",
              "      <td>0</td>\n",
              "      <td>0</td>\n",
              "      <td>0</td>\n",
              "      <td>0</td>\n",
              "      <td>1</td>\n",
              "      <td>1</td>\n",
              "    </tr>\n",
              "  </tbody>\n",
              "</table>\n",
              "</div>"
            ],
            "text/plain": [
              "          Auditor ID  Date  Price  UPC  Banner  Region\n",
              "Store ID                                              \n",
              "2938             933   933    933  933     933     933\n",
              "3948             389   389    389  389     389     389\n",
              "4698             401   401    401  401     401     401\n",
              "6746               0     0      0    0       1       1\n",
              "9487             382   382    382  382     382     382\n",
              "11123              0     0      0    0       1       1\n",
              "12837            859   859    859  859     859     859\n",
              "29342              0     0      0    0       1       1\n",
              "29382            838   838    838  838     838     838\n",
              "29384            381   381    381  381     381     381\n",
              "34957            515   515    515  515     515     515\n",
              "38472            503   503    503  503       0       0\n",
              "39284              0     0      0    0       1       1\n",
              "39287            913   913    913  913     913     913\n",
              "39482            306   306    306  306     306     306\n",
              "39485            819   819    819  819     819     819\n",
              "40582              0     0      0    0       1       1\n",
              "40586            898   898    898  898     898     898\n",
              "40593            585   585    585  585     585     585\n",
              "50495            579   579    579  579     579     579\n",
              "50692              0     0      0    0       1       1\n",
              "50948            851   851    851  851     851     851\n",
              "59582              0     0      0    0       1       1\n",
              "60957            301   301    301  301       0       0\n",
              "66356              0     0      0    0       1       1\n",
              "66999            412   412    412  412     412     412\n",
              "77955              0     0      0    0       1       1\n",
              "98638            927   927    927  927     927     927\n",
              "98736            523   523    523  523     523     523\n",
              "99997              0     0      0    0       1       1"
            ]
          },
          "metadata": {
            "tags": []
          },
          "execution_count": 114
        }
      ]
    },
    {
      "cell_type": "code",
      "metadata": {
        "id": "nX_866pmMAi5",
        "colab_type": "code",
        "colab": {
          "base_uri": "https://localhost:8080/",
          "height": 225
        },
        "outputId": "10fc8591-ec95-403e-fdf1-ce923224e157"
      },
      "source": [
        "merged.groupby('Region').count()"
      ],
      "execution_count": 117,
      "outputs": [
        {
          "output_type": "execute_result",
          "data": {
            "text/html": [
              "<div>\n",
              "<style scoped>\n",
              "    .dataframe tbody tr th:only-of-type {\n",
              "        vertical-align: middle;\n",
              "    }\n",
              "\n",
              "    .dataframe tbody tr th {\n",
              "        vertical-align: top;\n",
              "    }\n",
              "\n",
              "    .dataframe thead th {\n",
              "        text-align: right;\n",
              "    }\n",
              "</style>\n",
              "<table border=\"1\" class=\"dataframe\">\n",
              "  <thead>\n",
              "    <tr style=\"text-align: right;\">\n",
              "      <th></th>\n",
              "      <th>Auditor ID</th>\n",
              "      <th>Date</th>\n",
              "      <th>Price</th>\n",
              "      <th>Store ID</th>\n",
              "      <th>UPC</th>\n",
              "      <th>Banner</th>\n",
              "    </tr>\n",
              "    <tr>\n",
              "      <th>Region</th>\n",
              "      <th></th>\n",
              "      <th></th>\n",
              "      <th></th>\n",
              "      <th></th>\n",
              "      <th></th>\n",
              "      <th></th>\n",
              "    </tr>\n",
              "  </thead>\n",
              "  <tbody>\n",
              "    <tr>\n",
              "      <th>Hawaii</th>\n",
              "      <td>0</td>\n",
              "      <td>0</td>\n",
              "      <td>0</td>\n",
              "      <td>6</td>\n",
              "      <td>0</td>\n",
              "      <td>6</td>\n",
              "    </tr>\n",
              "    <tr>\n",
              "      <th>Kansas</th>\n",
              "      <td>3087</td>\n",
              "      <td>3087</td>\n",
              "      <td>3087</td>\n",
              "      <td>3088</td>\n",
              "      <td>3087</td>\n",
              "      <td>3088</td>\n",
              "    </tr>\n",
              "    <tr>\n",
              "      <th>New York</th>\n",
              "      <td>3025</td>\n",
              "      <td>3025</td>\n",
              "      <td>3025</td>\n",
              "      <td>3026</td>\n",
              "      <td>3025</td>\n",
              "      <td>3026</td>\n",
              "    </tr>\n",
              "    <tr>\n",
              "      <th>Northern California</th>\n",
              "      <td>1634</td>\n",
              "      <td>1634</td>\n",
              "      <td>1634</td>\n",
              "      <td>1635</td>\n",
              "      <td>1634</td>\n",
              "      <td>1635</td>\n",
              "    </tr>\n",
              "    <tr>\n",
              "      <th>Texas</th>\n",
              "      <td>3765</td>\n",
              "      <td>3765</td>\n",
              "      <td>3765</td>\n",
              "      <td>3766</td>\n",
              "      <td>3765</td>\n",
              "      <td>3766</td>\n",
              "    </tr>\n",
              "  </tbody>\n",
              "</table>\n",
              "</div>"
            ],
            "text/plain": [
              "                     Auditor ID  Date  Price  Store ID   UPC  Banner\n",
              "Region                                                              \n",
              "Hawaii                        0     0      0         6     0       6\n",
              "Kansas                     3087  3087   3087      3088  3087    3088\n",
              "New York                   3025  3025   3025      3026  3025    3026\n",
              "Northern California        1634  1634   1634      1635  1634    1635\n",
              "Texas                      3765  3765   3765      3766  3765    3766"
            ]
          },
          "metadata": {
            "tags": []
          },
          "execution_count": 117
        }
      ]
    },
    {
      "cell_type": "markdown",
      "metadata": {
        "id": "LRmjQXe5MQCx",
        "colab_type": "text"
      },
      "source": [
        "# The table above shows no price and assortment information was collected for stores in Hawaii."
      ]
    },
    {
      "cell_type": "code",
      "metadata": {
        "id": "81aDr_r5uS_V",
        "colab_type": "code",
        "colab": {
          "base_uri": "https://localhost:8080/",
          "height": 254
        },
        "outputId": "146bde0c-5f31-41eb-87c3-0a7456c7069a"
      },
      "source": [
        "merged.groupby('Banner').count()"
      ],
      "execution_count": 119,
      "outputs": [
        {
          "output_type": "execute_result",
          "data": {
            "text/html": [
              "<div>\n",
              "<style scoped>\n",
              "    .dataframe tbody tr th:only-of-type {\n",
              "        vertical-align: middle;\n",
              "    }\n",
              "\n",
              "    .dataframe tbody tr th {\n",
              "        vertical-align: top;\n",
              "    }\n",
              "\n",
              "    .dataframe thead th {\n",
              "        text-align: right;\n",
              "    }\n",
              "</style>\n",
              "<table border=\"1\" class=\"dataframe\">\n",
              "  <thead>\n",
              "    <tr style=\"text-align: right;\">\n",
              "      <th></th>\n",
              "      <th>Auditor ID</th>\n",
              "      <th>Date</th>\n",
              "      <th>Price</th>\n",
              "      <th>Store ID</th>\n",
              "      <th>UPC</th>\n",
              "      <th>Region</th>\n",
              "    </tr>\n",
              "    <tr>\n",
              "      <th>Banner</th>\n",
              "      <th></th>\n",
              "      <th></th>\n",
              "      <th></th>\n",
              "      <th></th>\n",
              "      <th></th>\n",
              "      <th></th>\n",
              "    </tr>\n",
              "  </thead>\n",
              "  <tbody>\n",
              "    <tr>\n",
              "      <th>Kroger</th>\n",
              "      <td>0</td>\n",
              "      <td>0</td>\n",
              "      <td>0</td>\n",
              "      <td>5</td>\n",
              "      <td>0</td>\n",
              "      <td>5</td>\n",
              "    </tr>\n",
              "    <tr>\n",
              "      <th>Safeway</th>\n",
              "      <td>1963</td>\n",
              "      <td>1963</td>\n",
              "      <td>1963</td>\n",
              "      <td>1964</td>\n",
              "      <td>1963</td>\n",
              "      <td>1964</td>\n",
              "    </tr>\n",
              "    <tr>\n",
              "      <th>Trader Joes</th>\n",
              "      <td>2062</td>\n",
              "      <td>2062</td>\n",
              "      <td>2062</td>\n",
              "      <td>2063</td>\n",
              "      <td>2062</td>\n",
              "      <td>2063</td>\n",
              "    </tr>\n",
              "    <tr>\n",
              "      <th>Walmart</th>\n",
              "      <td>2435</td>\n",
              "      <td>2435</td>\n",
              "      <td>2435</td>\n",
              "      <td>2436</td>\n",
              "      <td>2435</td>\n",
              "      <td>2436</td>\n",
              "    </tr>\n",
              "    <tr>\n",
              "      <th>Wegmans</th>\n",
              "      <td>2249</td>\n",
              "      <td>2249</td>\n",
              "      <td>2249</td>\n",
              "      <td>2250</td>\n",
              "      <td>2249</td>\n",
              "      <td>2250</td>\n",
              "    </tr>\n",
              "    <tr>\n",
              "      <th>Whole Foods</th>\n",
              "      <td>2802</td>\n",
              "      <td>2802</td>\n",
              "      <td>2802</td>\n",
              "      <td>2803</td>\n",
              "      <td>2802</td>\n",
              "      <td>2803</td>\n",
              "    </tr>\n",
              "  </tbody>\n",
              "</table>\n",
              "</div>"
            ],
            "text/plain": [
              "             Auditor ID  Date  Price  Store ID   UPC  Region\n",
              "Banner                                                      \n",
              "Kroger                0     0      0         5     0       5\n",
              "Safeway            1963  1963   1963      1964  1963    1964\n",
              "Trader Joes        2062  2062   2062      2063  2062    2063\n",
              "Walmart            2435  2435   2435      2436  2435    2436\n",
              "Wegmans            2249  2249   2249      2250  2249    2250\n",
              "Whole Foods        2802  2802   2802      2803  2802    2803"
            ]
          },
          "metadata": {
            "tags": []
          },
          "execution_count": 119
        }
      ]
    },
    {
      "cell_type": "markdown",
      "metadata": {
        "id": "WNSREJJLNUVk",
        "colab_type": "text"
      },
      "source": [
        "# The table above shows that there is no price information for the Kroger store."
      ]
    },
    {
      "cell_type": "markdown",
      "metadata": {
        "id": "HjaUNmgwzerB",
        "colab_type": "text"
      },
      "source": [
        "# Visualization of the merged data"
      ]
    },
    {
      "cell_type": "code",
      "metadata": {
        "id": "eDdnfHsVoJTa",
        "colab_type": "code",
        "colab": {
          "base_uri": "https://localhost:8080/",
          "height": 714
        },
        "outputId": "15ead33c-036e-487a-a8ce-1c229d2144a6"
      },
      "source": [
        "plt.figure(figsize=[23,12])\n",
        "sns.countplot(x = 'Store ID', data = merged)\n",
        "plt.show()"
      ],
      "execution_count": 120,
      "outputs": [
        {
          "output_type": "display_data",
          "data": {
            "image/png": "[encoded data removed]",
            "text/plain": [
              "<Figure size 1656x864 with 1 Axes>"
            ]
          },
          "metadata": {
            "tags": []
          }
        }
      ]
    },
    {
      "cell_type": "markdown",
      "metadata": {
        "id": "FHTVPN_ON8-7",
        "colab_type": "text"
      },
      "source": [
        "# Now let us visualize the total number of stores for which the price information was collected."
      ]
    },
    {
      "cell_type": "code",
      "metadata": {
        "id": "yR3QvM-jFDV7",
        "colab_type": "code",
        "outputId": "334f24c0-4e38-4f8b-e200-98b38a0c9f86",
        "colab": {
          "base_uri": "https://localhost:8080/",
          "height": 714
        }
      },
      "source": [
        "plt.figure(figsize=[20,12])\n",
        "cplt_m1b =sns.countplot(x= 'Banner', data= merged)"
      ],
      "execution_count": 122,
      "outputs": [
        {
          "output_type": "display_data",
          "data": {
            "image/png": "[encoded data removed]",
            "text/plain": [
              "<Figure size 1440x864 with 1 Axes>"
            ]
          },
          "metadata": {
            "tags": []
          }
        }
      ]
    },
    {
      "cell_type": "markdown",
      "metadata": {
        "id": "0lIr-sEKOVLJ",
        "colab_type": "text"
      },
      "source": [
        "# Let us see the number of stores in each region for which price information was collected."
      ]
    },
    {
      "cell_type": "code",
      "metadata": {
        "id": "ePB06RYDFjOn",
        "colab_type": "code",
        "colab": {
          "base_uri": "https://localhost:8080/",
          "height": 714
        },
        "outputId": "b4ab8820-6b26-4b20-81b9-9f961c45a543"
      },
      "source": [
        "plt.figure(figsize=[20,12])\n",
        "cplt_m1r =sns.countplot(x= 'Region', data= merged)"
      ],
      "execution_count": 123,
      "outputs": [
        {
          "output_type": "display_data",
          "data": {
            "image/png": "[encoded data removed]",
            "text/plain": [
              "<Figure size 1440x864 with 1 Axes>"
            ]
          },
          "metadata": {
            "tags": []
          }
        }
      ]
    },
    {
      "cell_type": "markdown",
      "metadata": {
        "id": "4e2MojoSsuyU",
        "colab_type": "text"
      },
      "source": [
        "# Cross tabulation. "
      ]
    },
    {
      "cell_type": "code",
      "metadata": {
        "id": "9m4DKsygsuMF",
        "colab_type": "code",
        "colab": {}
      },
      "source": [
        "d = merged.drop(['Store ID', 'Auditor ID', 'Date'], axis= 1)"
      ],
      "execution_count": 0,
      "outputs": []
    },
    {
      "cell_type": "code",
      "metadata": {
        "id": "hONa5ENk-By4",
        "colab_type": "code",
        "colab": {}
      },
      "source": [
        "data = d.pivot_table(values= 'Price', index= ['Banner', 'UPC'], columns= 'Region')"
      ],
      "execution_count": 0,
      "outputs": []
    },
    {
      "cell_type": "code",
      "metadata": {
        "id": "ysWIE6DKHjyt",
        "colab_type": "code",
        "colab": {
          "base_uri": "https://localhost:8080/",
          "height": 431
        },
        "outputId": "6dc8edfd-302f-43da-cd8c-32b0fccbfa20"
      },
      "source": [
        "data\n",
        "\n"
      ],
      "execution_count": 144,
      "outputs": [
        {
          "output_type": "execute_result",
          "data": {
            "text/html": [
              "<div>\n",
              "<style scoped>\n",
              "    .dataframe tbody tr th:only-of-type {\n",
              "        vertical-align: middle;\n",
              "    }\n",
              "\n",
              "    .dataframe tbody tr th {\n",
              "        vertical-align: top;\n",
              "    }\n",
              "\n",
              "    .dataframe thead th {\n",
              "        text-align: right;\n",
              "    }\n",
              "</style>\n",
              "<table border=\"1\" class=\"dataframe\">\n",
              "  <thead>\n",
              "    <tr style=\"text-align: right;\">\n",
              "      <th></th>\n",
              "      <th>Region</th>\n",
              "      <th>Kansas</th>\n",
              "      <th>New York</th>\n",
              "      <th>Northern California</th>\n",
              "      <th>Texas</th>\n",
              "    </tr>\n",
              "    <tr>\n",
              "      <th>Banner</th>\n",
              "      <th>UPC</th>\n",
              "      <th></th>\n",
              "      <th></th>\n",
              "      <th></th>\n",
              "      <th></th>\n",
              "    </tr>\n",
              "  </thead>\n",
              "  <tbody>\n",
              "    <tr>\n",
              "      <th rowspan=\"5\" valign=\"top\">Safeway</th>\n",
              "      <th>11873171.0</th>\n",
              "      <td>NaN</td>\n",
              "      <td>NaN</td>\n",
              "      <td>6.09</td>\n",
              "      <td>5.19</td>\n",
              "    </tr>\n",
              "    <tr>\n",
              "      <th>15052612.0</th>\n",
              "      <td>53.99</td>\n",
              "      <td>NaN</td>\n",
              "      <td>NaN</td>\n",
              "      <td>54.49</td>\n",
              "    </tr>\n",
              "    <tr>\n",
              "      <th>16482322.0</th>\n",
              "      <td>17.89</td>\n",
              "      <td>NaN</td>\n",
              "      <td>NaN</td>\n",
              "      <td>18.09</td>\n",
              "    </tr>\n",
              "    <tr>\n",
              "      <th>16729338.0</th>\n",
              "      <td>7.99</td>\n",
              "      <td>NaN</td>\n",
              "      <td>9.39</td>\n",
              "      <td>8.09</td>\n",
              "    </tr>\n",
              "    <tr>\n",
              "      <th>16829288.0</th>\n",
              "      <td>3.59</td>\n",
              "      <td>NaN</td>\n",
              "      <td>4.19</td>\n",
              "      <td>3.59</td>\n",
              "    </tr>\n",
              "    <tr>\n",
              "      <th>...</th>\n",
              "      <th>...</th>\n",
              "      <td>...</td>\n",
              "      <td>...</td>\n",
              "      <td>...</td>\n",
              "      <td>...</td>\n",
              "    </tr>\n",
              "    <tr>\n",
              "      <th rowspan=\"5\" valign=\"top\">Whole Foods</th>\n",
              "      <th>995798889.0</th>\n",
              "      <td>1.99</td>\n",
              "      <td>62.39</td>\n",
              "      <td>70.39</td>\n",
              "      <td>60.59</td>\n",
              "    </tr>\n",
              "    <tr>\n",
              "      <th>996262978.0</th>\n",
              "      <td>1.99</td>\n",
              "      <td>14.39</td>\n",
              "      <td>16.19</td>\n",
              "      <td>13.89</td>\n",
              "    </tr>\n",
              "    <tr>\n",
              "      <th>996849471.0</th>\n",
              "      <td>1.99</td>\n",
              "      <td>12.79</td>\n",
              "      <td>NaN</td>\n",
              "      <td>NaN</td>\n",
              "    </tr>\n",
              "    <tr>\n",
              "      <th>998831540.0</th>\n",
              "      <td>1.99</td>\n",
              "      <td>39.99</td>\n",
              "      <td>NaN</td>\n",
              "      <td>38.79</td>\n",
              "    </tr>\n",
              "    <tr>\n",
              "      <th>999185078.0</th>\n",
              "      <td>1.99</td>\n",
              "      <td>58.09</td>\n",
              "      <td>65.49</td>\n",
              "      <td>NaN</td>\n",
              "    </tr>\n",
              "  </tbody>\n",
              "</table>\n",
              "<p>4931 rows × 4 columns</p>\n",
              "</div>"
            ],
            "text/plain": [
              "Region                   Kansas  New York  Northern California  Texas\n",
              "Banner      UPC                                                      \n",
              "Safeway     11873171.0      NaN       NaN                 6.09   5.19\n",
              "            15052612.0    53.99       NaN                  NaN  54.49\n",
              "            16482322.0    17.89       NaN                  NaN  18.09\n",
              "            16729338.0     7.99       NaN                 9.39   8.09\n",
              "            16829288.0     3.59       NaN                 4.19   3.59\n",
              "...                         ...       ...                  ...    ...\n",
              "Whole Foods 995798889.0    1.99     62.39                70.39  60.59\n",
              "            996262978.0    1.99     14.39                16.19  13.89\n",
              "            996849471.0    1.99     12.79                  NaN    NaN\n",
              "            998831540.0    1.99     39.99                  NaN  38.79\n",
              "            999185078.0    1.99     58.09                65.49    NaN\n",
              "\n",
              "[4931 rows x 4 columns]"
            ]
          },
          "metadata": {
            "tags": []
          },
          "execution_count": 144
        }
      ]
    },
    {
      "cell_type": "code",
      "metadata": {
        "id": "clI5QJdvtmEz",
        "colab_type": "code",
        "colab": {
          "base_uri": "https://localhost:8080/",
          "height": 225
        },
        "outputId": "209ba7ca-28ed-4c77-9c6d-72b18751c051"
      },
      "source": [
        "dg = data.groupby('Banner').count()\n",
        "dg"
      ],
      "execution_count": 143,
      "outputs": [
        {
          "output_type": "execute_result",
          "data": {
            "text/html": [
              "<div>\n",
              "<style scoped>\n",
              "    .dataframe tbody tr th:only-of-type {\n",
              "        vertical-align: middle;\n",
              "    }\n",
              "\n",
              "    .dataframe tbody tr th {\n",
              "        vertical-align: top;\n",
              "    }\n",
              "\n",
              "    .dataframe thead th {\n",
              "        text-align: right;\n",
              "    }\n",
              "</style>\n",
              "<table border=\"1\" class=\"dataframe\">\n",
              "  <thead>\n",
              "    <tr style=\"text-align: right;\">\n",
              "      <th>Region</th>\n",
              "      <th>Kansas</th>\n",
              "      <th>New York</th>\n",
              "      <th>Northern California</th>\n",
              "      <th>Texas</th>\n",
              "    </tr>\n",
              "    <tr>\n",
              "      <th>Banner</th>\n",
              "      <th></th>\n",
              "      <th></th>\n",
              "      <th></th>\n",
              "      <th></th>\n",
              "    </tr>\n",
              "  </thead>\n",
              "  <tbody>\n",
              "    <tr>\n",
              "      <th>Safeway</th>\n",
              "      <td>819</td>\n",
              "      <td>0</td>\n",
              "      <td>306</td>\n",
              "      <td>838</td>\n",
              "    </tr>\n",
              "    <tr>\n",
              "      <th>Trader Joes</th>\n",
              "      <td>381</td>\n",
              "      <td>382</td>\n",
              "      <td>401</td>\n",
              "      <td>898</td>\n",
              "    </tr>\n",
              "    <tr>\n",
              "      <th>Walmart</th>\n",
              "      <td>585</td>\n",
              "      <td>859</td>\n",
              "      <td>412</td>\n",
              "      <td>579</td>\n",
              "    </tr>\n",
              "    <tr>\n",
              "      <th>Wegmans</th>\n",
              "      <td>389</td>\n",
              "      <td>933</td>\n",
              "      <td>0</td>\n",
              "      <td>927</td>\n",
              "    </tr>\n",
              "    <tr>\n",
              "      <th>Whole Foods</th>\n",
              "      <td>913</td>\n",
              "      <td>851</td>\n",
              "      <td>515</td>\n",
              "      <td>523</td>\n",
              "    </tr>\n",
              "  </tbody>\n",
              "</table>\n",
              "</div>"
            ],
            "text/plain": [
              "Region       Kansas  New York  Northern California  Texas\n",
              "Banner                                                   \n",
              "Safeway         819         0                  306    838\n",
              "Trader Joes     381       382                  401    898\n",
              "Walmart         585       859                  412    579\n",
              "Wegmans         389       933                    0    927\n",
              "Whole Foods     913       851                  515    523"
            ]
          },
          "metadata": {
            "tags": []
          },
          "execution_count": 143
        }
      ]
    },
    {
      "cell_type": "markdown",
      "metadata": {
        "id": "cbfDNnZZX5o3",
        "colab_type": "text"
      },
      "source": [
        "# No price information for Safeway store in New York, if there is any Safeway in NY."
      ]
    },
    {
      "cell_type": "markdown",
      "metadata": {
        "id": "1mIi3eyWaOaZ",
        "colab_type": "text"
      },
      "source": [
        "# Now let us save the data to csv in a folder we like. In my case I chose to save to the following path: C:\\TBBacha\\DataScience\\Engage3 "
      ]
    },
    {
      "cell_type": "code",
      "metadata": {
        "id": "oayZaUQwJp3_",
        "colab_type": "code",
        "colab": {}
      },
      "source": [
        "data.to_csv('C:\\TBBacha\\DataScience\\Engage3\\newdata.csv')"
      ],
      "execution_count": 0,
      "outputs": []
    },
    {
      "cell_type": "markdown",
      "metadata": {
        "id": "b4JaN6DKdDZb",
        "colab_type": "text"
      },
      "source": [
        "# Checking for the saved data "
      ]
    },
    {
      "cell_type": "code",
      "metadata": {
        "id": "61fXZIXgKpe_",
        "colab_type": "code",
        "colab": {}
      },
      "source": [
        "saved_data =pd.read_csv('C:\\TBBacha\\DataScience\\Engage3\\newdata.csv')"
      ],
      "execution_count": 0,
      "outputs": []
    },
    {
      "cell_type": "code",
      "metadata": {
        "id": "Qq-sfGTFPWJc",
        "colab_type": "code",
        "colab": {
          "base_uri": "https://localhost:8080/",
          "height": 402
        },
        "outputId": "3c97c947-d57d-4daf-8476-c155ef4dad1e"
      },
      "source": [
        "saved_data"
      ],
      "execution_count": 152,
      "outputs": [
        {
          "output_type": "execute_result",
          "data": {
            "text/html": [
              "<div>\n",
              "<style scoped>\n",
              "    .dataframe tbody tr th:only-of-type {\n",
              "        vertical-align: middle;\n",
              "    }\n",
              "\n",
              "    .dataframe tbody tr th {\n",
              "        vertical-align: top;\n",
              "    }\n",
              "\n",
              "    .dataframe thead th {\n",
              "        text-align: right;\n",
              "    }\n",
              "</style>\n",
              "<table border=\"1\" class=\"dataframe\">\n",
              "  <thead>\n",
              "    <tr style=\"text-align: right;\">\n",
              "      <th></th>\n",
              "      <th>Banner</th>\n",
              "      <th>UPC</th>\n",
              "      <th>Kansas</th>\n",
              "      <th>New York</th>\n",
              "      <th>Northern California</th>\n",
              "      <th>Texas</th>\n",
              "    </tr>\n",
              "  </thead>\n",
              "  <tbody>\n",
              "    <tr>\n",
              "      <th>0</th>\n",
              "      <td>Safeway</td>\n",
              "      <td>11873171.0</td>\n",
              "      <td>NaN</td>\n",
              "      <td>NaN</td>\n",
              "      <td>6.09</td>\n",
              "      <td>5.19</td>\n",
              "    </tr>\n",
              "    <tr>\n",
              "      <th>1</th>\n",
              "      <td>Safeway</td>\n",
              "      <td>15052612.0</td>\n",
              "      <td>53.99</td>\n",
              "      <td>NaN</td>\n",
              "      <td>NaN</td>\n",
              "      <td>54.49</td>\n",
              "    </tr>\n",
              "    <tr>\n",
              "      <th>2</th>\n",
              "      <td>Safeway</td>\n",
              "      <td>16482322.0</td>\n",
              "      <td>17.89</td>\n",
              "      <td>NaN</td>\n",
              "      <td>NaN</td>\n",
              "      <td>18.09</td>\n",
              "    </tr>\n",
              "    <tr>\n",
              "      <th>3</th>\n",
              "      <td>Safeway</td>\n",
              "      <td>16729338.0</td>\n",
              "      <td>7.99</td>\n",
              "      <td>NaN</td>\n",
              "      <td>9.39</td>\n",
              "      <td>8.09</td>\n",
              "    </tr>\n",
              "    <tr>\n",
              "      <th>4</th>\n",
              "      <td>Safeway</td>\n",
              "      <td>16829288.0</td>\n",
              "      <td>3.59</td>\n",
              "      <td>NaN</td>\n",
              "      <td>4.19</td>\n",
              "      <td>3.59</td>\n",
              "    </tr>\n",
              "    <tr>\n",
              "      <th>...</th>\n",
              "      <td>...</td>\n",
              "      <td>...</td>\n",
              "      <td>...</td>\n",
              "      <td>...</td>\n",
              "      <td>...</td>\n",
              "      <td>...</td>\n",
              "    </tr>\n",
              "    <tr>\n",
              "      <th>4926</th>\n",
              "      <td>Whole Foods</td>\n",
              "      <td>995798889.0</td>\n",
              "      <td>1.99</td>\n",
              "      <td>62.39</td>\n",
              "      <td>70.39</td>\n",
              "      <td>60.59</td>\n",
              "    </tr>\n",
              "    <tr>\n",
              "      <th>4927</th>\n",
              "      <td>Whole Foods</td>\n",
              "      <td>996262978.0</td>\n",
              "      <td>1.99</td>\n",
              "      <td>14.39</td>\n",
              "      <td>16.19</td>\n",
              "      <td>13.89</td>\n",
              "    </tr>\n",
              "    <tr>\n",
              "      <th>4928</th>\n",
              "      <td>Whole Foods</td>\n",
              "      <td>996849471.0</td>\n",
              "      <td>1.99</td>\n",
              "      <td>12.79</td>\n",
              "      <td>NaN</td>\n",
              "      <td>NaN</td>\n",
              "    </tr>\n",
              "    <tr>\n",
              "      <th>4929</th>\n",
              "      <td>Whole Foods</td>\n",
              "      <td>998831540.0</td>\n",
              "      <td>1.99</td>\n",
              "      <td>39.99</td>\n",
              "      <td>NaN</td>\n",
              "      <td>38.79</td>\n",
              "    </tr>\n",
              "    <tr>\n",
              "      <th>4930</th>\n",
              "      <td>Whole Foods</td>\n",
              "      <td>999185078.0</td>\n",
              "      <td>1.99</td>\n",
              "      <td>58.09</td>\n",
              "      <td>65.49</td>\n",
              "      <td>NaN</td>\n",
              "    </tr>\n",
              "  </tbody>\n",
              "</table>\n",
              "<p>4931 rows × 6 columns</p>\n",
              "</div>"
            ],
            "text/plain": [
              "           Banner          UPC  Kansas  New York  Northern California  Texas\n",
              "0         Safeway   11873171.0     NaN       NaN                 6.09   5.19\n",
              "1         Safeway   15052612.0   53.99       NaN                  NaN  54.49\n",
              "2         Safeway   16482322.0   17.89       NaN                  NaN  18.09\n",
              "3         Safeway   16729338.0    7.99       NaN                 9.39   8.09\n",
              "4         Safeway   16829288.0    3.59       NaN                 4.19   3.59\n",
              "...           ...          ...     ...       ...                  ...    ...\n",
              "4926  Whole Foods  995798889.0    1.99     62.39                70.39  60.59\n",
              "4927  Whole Foods  996262978.0    1.99     14.39                16.19  13.89\n",
              "4928  Whole Foods  996849471.0    1.99     12.79                  NaN    NaN\n",
              "4929  Whole Foods  998831540.0    1.99     39.99                  NaN  38.79\n",
              "4930  Whole Foods  999185078.0    1.99     58.09                65.49    NaN\n",
              "\n",
              "[4931 rows x 6 columns]"
            ]
          },
          "metadata": {
            "tags": []
          },
          "execution_count": 152
        }
      ]
    },
    {
      "cell_type": "markdown",
      "metadata": {
        "id": "XqH3YVfbdWAf",
        "colab_type": "text"
      },
      "source": [
        "# Summary of the data"
      ]
    },
    {
      "cell_type": "markdown",
      "metadata": {
        "id": "0QE7nrHqdxxl",
        "colab_type": "text"
      },
      "source": [
        "1. No Safeway store price information in New York. This tells us either there is no Safeway store in New York or the price information was not collected, if there is any.\n",
        "2. There is no price information for the Kroger store\n",
        "3. No auditor was sent to Hawaii to collected the price information."
      ]
    }
  ]
}